{
  "nbformat": 4,
  "nbformat_minor": 0,
  "metadata": {
    "colab": {
      "name": "Train Data.ipynb",
      "private_outputs": true,
      "provenance": [],
      "collapsed_sections": [],
      "include_colab_link": true
    },
    "kernelspec": {
      "name": "python3",
      "display_name": "Python 3"
    },
    "accelerator": "GPU"
  },
  "cells": [
    {
      "cell_type": "markdown",
      "metadata": {
        "id": "view-in-github",
        "colab_type": "text"
      },
      "source": [
        "<a href=\"https://colab.research.google.com/github/anindita/dances/blob/main/detect/openpose_train_experiment.ipynb\" target=\"_parent\"><img src=\"https://colab.research.google.com/assets/colab-badge.svg\" alt=\"Open In Colab\"/></a>"
      ]
    },
    {
      "cell_type": "code",
      "metadata": {
        "id": "v46bW2huhhx3"
      },
      "source": [
        "!git clone https://github.com/CMU-Perceptual-Computing-Lab/openpose_train/"
      ],
      "execution_count": null,
      "outputs": []
    },
    {
      "cell_type": "markdown",
      "metadata": {
        "id": "X8cWHMsDsmBM"
      },
      "source": [
        ""
      ]
    },
    {
      "cell_type": "code",
      "metadata": {
        "id": "znjvoLddh6lS"
      },
      "source": [
        "!cd openpose_train/training; bash a_lmdbGetFoot.sh"
      ],
      "execution_count": null,
      "outputs": []
    },
    {
      "cell_type": "code",
      "metadata": {
        "id": "as71durGiOzR"
      },
      "source": [
        "!rm -rf openpose_caffe_train\n",
        "!git clone https://github.com/CMU-Perceptual-Computing-Lab/openpose_caffe_train"
      ],
      "execution_count": null,
      "outputs": []
    },
    {
      "cell_type": "code",
      "metadata": {
        "id": "UCOO-Spcm8se"
      },
      "source": [
        "!wget -q https://cmake.org/files/v3.13/cmake-3.13.0-Linux-x86_64.tar.gz\n",
        "!tar xfz cmake-3.13.0-Linux-x86_64.tar.gz --strip-components=1 -C /usr/local\n",
        "!apt-get -qq install -y libatlas-base-dev libprotobuf-dev libleveldb-dev libsnappy-dev libhdf5-serial-dev protobuf-compiler libgflags-dev libgoogle-glog-dev liblmdb-dev opencl-headers ocl-icd-opencl-dev libviennacl-dev\n",
        "!apt-get install caffe-cuda\n",
        "!apt --fix-broken install"
      ],
      "execution_count": null,
      "outputs": []
    },
    {
      "cell_type": "code",
      "metadata": {
        "id": "f1f3ZBKzxsgO"
      },
      "source": [
        "!cd openpose_caffe_train/op && git clone https://github.com/pybind/pybind11.git\n",
        "!apt-get install doxygen\n",
        "!apt install libpython3.7-dev\n",
        "!ln -s libboost_python-py35.so libboost_python3.so\n",
        "!pip install h5py\n",
        "!apt-get install --no-install-recommends libboost-all-dev\n",
        "!pip install pydot protobuf\n",
        "!apt-get install libatlas-base-dev\n",
        "!apt-get install libopencv-dev\n",
        "\n",
        "!wget https://dl.bintray.com/boostorg/release/1.67.0/source/boost_1_67_0.tar.bz2\n",
        "!tar --bzip2 -xf boost_1_67_0.tar.bz2\n",
        "!cd boost_1_67_0 && ./bootstrap.sh --exec-prefix=/usr/local --with-libraries=system,filesystem,regex,thread,python \\\n",
        "--with-python-version=2.7 --with-python-root=/usr\n",
        "!cd boost_1_67_0 && ./b2 install"
      ],
      "execution_count": null,
      "outputs": []
    },
    {
      "cell_type": "code",
      "metadata": {
        "id": "EpBhvPv-a_wA"
      },
      "source": [
        "from google.colab import drive\n",
        "drive.mount('/gdrive')"
      ],
      "execution_count": null,
      "outputs": []
    },
    {
      "cell_type": "code",
      "metadata": {
        "id": "aFOMiiELgS52"
      },
      "source": [
        "%%bash\n",
        "# start here: upload zip file of cudnn10.1\n",
        "cp /gdrive/MyDrive/cudnn-10.1-linux-x64-v7.6.5.32.tgz /content\n",
        "tar -xzvf cudnn-10.1-linux-x64-v7.6.5.32.tgz\n",
        "sudo cp cuda/include/cudnn*.h /usr/local/cuda/include\n",
        "sudo cp cuda/lib64/libcudnn* /usr/local/cuda/lib64\n",
        "sudo chmod a+r /usr/local/cuda/include/cudnn*.h /usr/local/cuda/lib64/libcudnn*\n",
        "cd /usr/local/cuda/lib64\n",
        "sudo rm libcudnn.so\n",
        "sudo rm libcudnn.so.7\n",
        "sudo ln -s libcudnn.so.7.6.5 libcudnn.so.7\n",
        "sudo ln -s libcudnn.so.7 libcudnn.so\n",
        "sudo ldconfig"
      ],
      "execution_count": null,
      "outputs": []
    },
    {
      "cell_type": "code",
      "metadata": {
        "id": "RviMEzhLfmJ_"
      },
      "source": [
        "%%bash\n",
        "\n",
        "sudo apt-get install build-essential cmake git unzip pkg-config libjpeg-dev libpng-dev libtiff-dev libavcodec-dev libavformat-dev libswscale-dev libgstreamer1.0-dev libgstreamer-plugins-base1.0-dev libfaac-dev libmp3lame-dev libtheora-dev libavresample-dev libvorbis-dev libopencore-amrnb-dev libopencore-amrwb-dev libgtk2.0-dev libcanberra-gtk-module libcanberra-gtk3-module x264 libxvidcore-dev libx264-dev libgtk-3-dev python3-dev python3-numpy python3-pip python3-testresources libtbb2 libtbb-dev libdc1394-22-dev libv4l-dev v4l-utils libxine2-dev software-properties-common\n",
        "cd /usr/include/linux\n",
        "sudo ln -s videodev2.h videodev.h\n",
        "\n",
        "sudo add-apt-repository \"deb http://security.ubuntu.com/ubuntu xenial-security main\"\n",
        "sudo apt-get update\n",
        "sudo apt-get install libjasper-dev libopenblas-dev libatlas-base-dev libblas-dev liblapack-dev gfortran libhdf5-dev protobuf-compiler libprotobuf-dev libgoogle-glog-dev libgflags-dev\n"
      ],
      "execution_count": null,
      "outputs": []
    },
    {
      "cell_type": "code",
      "metadata": {
        "id": "eCgI4BVHGqsI"
      },
      "source": [
        "%%bash\n",
        "# sudo apt-get remove gcc-4.9 g++-4.9\n",
        "# sudo apt autoremove\n",
        "# sudo apt-get install gcc-8 g++-8\n",
        "# sudo update-alternatives --install /usr/bin/gcc gcc /usr/bin/gcc-8 20\n",
        "# sudo update-alternatives --install /usr/bin/g++ g++ /usr/bin/g++-8 20\n",
        "# sudo update-alternatives --install /usr/bin/cc cc /usr/bin/gcc 40\n",
        "# sudo update-alternatives --set cc /usr/bin/gcc\n",
        "# sudo update-alternatives --install /usr/bin/c++ c++ /usr/bin/g++ 40\n",
        "# sudo update-alternatives --set c++ /usr/bin/g++"
      ],
      "execution_count": null,
      "outputs": []
    },
    {
      "cell_type": "code",
      "metadata": {
        "id": "4Lis3PEEy91z"
      },
      "source": [
        "%%bash\n",
        "\n",
        "apt-get install libopencv-contrib-dev"
      ],
      "execution_count": null,
      "outputs": []
    },
    {
      "cell_type": "code",
      "metadata": {
        "id": "OKPMX-ROzWKW"
      },
      "source": [
        "%%bash\n",
        "\n",
        "find / -name \"libopen*\"\n",
        "export PKG_CONFIG_PATH=\"/content/opencv/build/unix-install\""
      ],
      "execution_count": null,
      "outputs": []
    },
    {
      "cell_type": "code",
      "metadata": {
        "id": "Jgdudb3hgFCb"
      },
      "source": [
        "%%bash\n",
        "\n",
        "wget -O opencv.zip https://github.com/opencv/opencv/archive/3.4.0.zip\n",
        "wget -O opencv_contrib.zip https://github.com/opencv/opencv_contrib/archive/3.4.0.zip\n",
        "unzip opencv.zip\n",
        "unzip opencv_contrib.zip\n",
        "mv opencv-3.4.0 opencv\n",
        "mv opencv_contrib-3.4.0 opencv_contrib\n",
        "cd opencv\n",
        "mkdir build\n",
        "cd build\n",
        "# Execute Cmake with following flags:\n",
        "\n",
        "cmake -D CMAKE_BUILD_TYPE=RELEASE \\\n",
        "        -D CMAKE_INSTALL_PREFIX=/usr/local \\\n",
        "        -D OPENCV_EXTRA_MODULES_PATH=/content/opencv_contrib/modules /content/opencv\n",
        "        -D BUILD_TIFF=ON \\\n",
        "        -D WITH_FFMPEG=ON \\\n",
        "        -D WITH_GSTREAMER=ON \\\n",
        "        -D WITH_TBB=ON \\\n",
        "        -D BUILD_TBB=ON \\\n",
        "        -D WITH_EIGEN=ON \\\n",
        "        -D WITH_V4L=ON \\\n",
        "        -D WITH_LIBV4L=ON \\\n",
        "        -D WITH_VTK=OFF \\\n",
        "        -D WITH_OPENGL=ON \\\n",
        "        -D OPENCV_ENABLE_NONFREE=ON \\\n",
        "        -D INSTALL_C_EXAMPLES=OFF \\\n",
        "        -D INSTALL_PYTHON_EXAMPLES=OFF \\\n",
        "        -D BUILD_NEW_PYTHON_SUPPORT=ON \\\n",
        "        -D OPENCV_GENERATE_PKGCONFIG=ON \\\n",
        "        -D BUILD_TESTS=OFF \\\n",
        "        -D BUILD_EXAMPLES=OFF \\\n",
        "        -D WITH_CUDA=ON \\\n",
        "        -D OPENCV_DNN_CUDA=ON \\\n",
        "        -D WITH_CUDNN=ON \\\n",
        "        -D ENABLE_FAST_MATH=ON \\\n",
        "        -D CUDA_FAST_MATH=ON \\\n",
        "        -D WITH_CUBLAS=ON ..\n",
        "        \n",
        "# -D CUDNN_LIBRARY=/usr/local/cuda/lib64/libcudnn.so.7.6.5 \\\n",
        "        # -D CUDNN_INCLUDE_DIR=/usr/local/cuda/include \\\n",
        "        #-D CUDA_ARCH_BIN=7.0 \\\n",
        "\n",
        "make VERBOSE=1 -j$(nproc)\n",
        "sudo make install\n",
        "sudo ldconfig\n",
        "\n",
        "export LDFLAGS=-L/usr/local/cuda/lib64\n",
        "export PKG_CONFIG_PATH=\"/content/opencv/build/unix-install\"\n"
      ],
      "execution_count": null,
      "outputs": []
    },
    {
      "cell_type": "code",
      "metadata": {
        "id": "Tf3bXS29nq9o"
      },
      "source": [
        "!cd /content/openpose_caffe_train/ && make clean && rm -rf build || true && mkdir build && cd build && cmake -DBUILD_python=1 -DCMAKE_CXX_COMPILER=/usr/bin/g++ -DOpenCV_DIR=/content/opencv/ ..\n",
        "!cd /content/openpose_caffe_train/build && make -j`nproc` && make pycaffe -j`nproc`\n",
        "#!cd openpose_caffe_train/autocompile && bash compile_caffe.sh\n",
        "#!export PYTHONPATH=/content/openpose_caffe_train/python/:$PYTHONPATH\n",
        "\n",
        "#!cd /content/openpose_caffe_train/ && rm -rf build "
      ],
      "execution_count": null,
      "outputs": []
    },
    {
      "cell_type": "code",
      "metadata": {
        "id": "BviGQY2G2Gt0"
      },
      "source": [
        "!cd openpose_train/training && python d_setLayers.py"
      ],
      "execution_count": null,
      "outputs": []
    }
  ]
}