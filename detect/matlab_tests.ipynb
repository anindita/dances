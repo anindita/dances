{
  "nbformat": 4,
  "nbformat_minor": 0,
  "metadata": {
    "colab": {
      "name": "Generate ground truth matlab",
      "private_outputs": true,
      "provenance": [],
      "authorship_tag": "ABX9TyNz3/3L2aUgUCG4oRX5mXrb",
      "include_colab_link": true
    },
    "kernelspec": {
      "name": "python3",
      "display_name": "Python 3"
    },
    "language_info": {
      "name": "python"
    }
  },
  "cells": [
    {
      "cell_type": "markdown",
      "metadata": {
        "id": "view-in-github",
        "colab_type": "text"
      },
      "source": [
        "<a href=\"https://colab.research.google.com/github/anindita/dances/blob/main/detect/matlab_tests.ipynb\" target=\"_parent\"><img src=\"https://colab.research.google.com/assets/colab-badge.svg\" alt=\"Open In Colab\"/></a>"
      ]
    },
    {
      "cell_type": "code",
      "metadata": {
        "id": "AODw-X46cb7K"
      },
      "source": [
        "from google.colab import drive\n",
        "drive.mount('/content/drive')\n",
        "\n",
        "!cp --verbose -R /content/drive/MyDrive/mpii/annot /content/\n",
        "\n",
        "import json\n",
        "import random\n",
        "\n",
        "valid = []\n",
        "test = []\n",
        "train = []\n",
        "\n",
        "with open('annot/ExPose3000Diving.json') as json_data:\n",
        "  data = json.load(json_data)\n",
        "  for img in data:\n",
        "    rand = random.randint(1, 20)\n",
        "    if rand == 1 or rand == 2 or rand == 3:\n",
        "      valid.append(img)\n",
        "    elif rand == 4 or rand == 5 or rand == 6:\n",
        "      test.append(img)\n",
        "    else:\n",
        "      train.append(img)\n",
        "\n",
        "with open('valid.json', 'w') as f:\n",
        "    json.dump(valid, f, ensure_ascii=False, indent=4)\n",
        "\n",
        "with open('test.json', 'w') as f:\n",
        "    json.dump(test, f, ensure_ascii=False, indent=4)\n",
        "\n",
        "with open('train.json', 'w') as f:\n",
        "    json.dump(train, f, ensure_ascii=False, indent=4)"
      ],
      "execution_count": null,
      "outputs": []
    },
    {
      "cell_type": "code",
      "metadata": {
        "id": "aXafnnVrNITK"
      },
      "source": [
        "from scipy.io import loadmat, savemat\n",
        "\n",
        "gt_dict = loadmat('/content/gt_valid.mat')\n",
        "\n",
        "dataset_joints = gt_dict['dataset_joints']\n",
        "jnt_missing = gt_dict['jnt_missing']\n",
        "pos_gt_src = gt_dict['pos_gt_src']\n",
        "headboxes_src = gt_dict['headboxes_src']"
      ],
      "execution_count": null,
      "outputs": []
    },
    {
      "cell_type": "code",
      "metadata": {
        "id": "c2D0tCKdPTwn"
      },
      "source": [
        "choice = headboxes_src\n",
        "\n",
        "print(choice)\n",
        "print(len(choice))"
      ],
      "execution_count": null,
      "outputs": []
    },
    {
      "cell_type": "code",
      "metadata": {
        "id": "CsdugppyZMAj"
      },
      "source": [
        "## Missing joint data\n",
        "\n",
        "with open('/content/test.json') as json_data:\n",
        "  data = json.load(json_data)\n",
        "\n",
        "  joint_missing = [[] for joint in data[0]['joints_vis']]\n",
        "\n",
        "  for i,img in enumerate(data):\n",
        "    for j,jnt in enumerate(img['joints_vis']):\n",
        "      if jnt == 0:\n",
        "        joint_missing[j].append(1)\n",
        "      else:\n",
        "        joint_missing[j].append(0)\n",
        "\n",
        "print(joint_missing)\n"
      ],
      "execution_count": null,
      "outputs": []
    },
    {
      "cell_type": "code",
      "metadata": {
        "id": "FdmnQx95ZPQO"
      },
      "source": [
        "## Positive ground truth sources\n",
        "\n",
        "with open('/content/test.json') as json_data:\n",
        "  data = json.load(json_data)\n",
        "\n",
        "  ground_truth = [[[] for j in jnt] for jnt in data[0]['joints']]\n",
        "\n",
        "  for i,img in enumerate(data):\n",
        "    for j,jnt in enumerate(img['joints']): # 16 joints\n",
        "      ground_truth[j][0].append(jnt[0])\n",
        "      ground_truth[j][1].append(jnt[1])\n",
        "\n",
        "print(ground_truth)"
      ],
      "execution_count": null,
      "outputs": []
    },
    {
      "cell_type": "code",
      "metadata": {
        "id": "oN6ydgKGZS-U"
      },
      "source": [
        "## Headboxes\n",
        "\n",
        "import math\n",
        "\n",
        "with open('/content/test.json') as json_data:\n",
        "  data = json.load(json_data)\n",
        "\n",
        "  heads = [[[] for coord in range(2)] for jnt in range(2)]\n",
        "  # bttm l x, bttm l y, top r x, top r y\n",
        "\n",
        "  for i,img in enumerate(data):\n",
        "    neck_x = img['joints'][8][0]\n",
        "    neck_y = img['joints'][8][1]\n",
        "    head_x = img['joints'][9][0]\n",
        "    head_y = img['joints'][9][1]\n",
        "\n",
        "    half = math.sqrt((neck_x - head_x) ** 2 + (neck_y - head_y) ** 2) / 2\n",
        "\n",
        "    mid_x = (neck_x + head_x) / 2\n",
        "    mid_y = (neck_y + head_y) / 2\n",
        "\n",
        "    bml_x = int(min(mid_x - half, neck_x, head_x))\n",
        "    bml_y = int(min(mid_y - half, neck_y, head_y))\n",
        "    tpr_x = int(max(mid_x + half, neck_x, head_x))\n",
        "    tpr_y = int(max(mid_y + half, neck_y, head_y))\n",
        "\n",
        "    heads[0][0].append(bml_x)\n",
        "    heads[0][1].append(bml_y)\n",
        "    heads[1][0].append(tpr_x)\n",
        "    heads[1][1].append(tpr_y)\n",
        "\n",
        "print(heads)"
      ],
      "execution_count": null,
      "outputs": []
    },
    {
      "cell_type": "code",
      "metadata": {
        "id": "zCcGhJxtYSPE"
      },
      "source": [
        "savemat(\"gt_valid.mat\", mdict={'dataset_joints': dataset_joints, 'jnt_missing': joint_missing, 'pos_gt_src': ground_truth, 'headboxes_src': heads})"
      ],
      "execution_count": null,
      "outputs": []
    }
  ]
}