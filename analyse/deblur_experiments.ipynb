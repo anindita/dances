{
  "nbformat": 4,
  "nbformat_minor": 0,
  "metadata": {
    "colab": {
      "name": "Deblur",
      "private_outputs": true,
      "provenance": [],
      "toc_visible": true,
      "authorship_tag": "ABX9TyP9XkIXOL8qKEm2frRu+q6m",
      "include_colab_link": true
    },
    "kernelspec": {
      "name": "python3",
      "display_name": "Python 3"
    },
    "language_info": {
      "name": "python"
    },
    "accelerator": "GPU"
  },
  "cells": [
    {
      "cell_type": "markdown",
      "metadata": {
        "id": "view-in-github",
        "colab_type": "text"
      },
      "source": [
        "<a href=\"https://colab.research.google.com/github/anindita/dances/blob/main/analyse/deblur_experiments.ipynb\" target=\"_parent\"><img src=\"https://colab.research.google.com/assets/colab-badge.svg\" alt=\"Open In Colab\"/></a>"
      ]
    },
    {
      "cell_type": "markdown",
      "metadata": {
        "id": "hMqgu1Q2LQJg"
      },
      "source": [
        "# Set up environment"
      ]
    },
    {
      "cell_type": "code",
      "metadata": {
        "id": "s6LwVJH8LfTE"
      },
      "source": [
        "from google.colab import drive\n",
        "drive.mount('/content/drive')"
      ],
      "execution_count": null,
      "outputs": []
    },
    {
      "cell_type": "code",
      "metadata": {
        "id": "kX6OXu2FLP26"
      },
      "source": [
        "%%bash\n",
        "\n",
        "git clone https://github.com/laomao0/BIN.git\n",
        "cp --verbose /content/drive/MyDrive/adobe_bin.pth /content/BIN/model_weights\n",
        "cd /content/BIN/demo_videos\n",
        "cp --verbose /content/drive/MyDrive/demo_blur.zip /content/BIN/demo_videos\n"
      ],
      "execution_count": null,
      "outputs": []
    },
    {
      "cell_type": "code",
      "metadata": {
        "id": "X4ZfhAvcMaRB"
      },
      "source": [
        "import shutil\n",
        "\n",
        "shutil.unpack_archive('/content/BIN/demo_videos/demo_blur.zip', '/content/BIN/demo_videos/')\n"
      ],
      "execution_count": null,
      "outputs": []
    },
    {
      "cell_type": "code",
      "metadata": {
        "id": "vCqBxNRdMuMw"
      },
      "source": [
        "%%bash\n",
        "\n",
        "mkdir /content/BIN/demo_videos/demo_results\n",
        "cd BIN\n",
        "bash demo.sh"
      ],
      "execution_count": null,
      "outputs": []
    },
    {
      "cell_type": "markdown",
      "metadata": {
        "id": "3GUJAi4OLNlr"
      },
      "source": [
        "# Download video"
      ]
    },
    {
      "cell_type": "code",
      "metadata": {
        "id": "uIOxJg2IKfWn"
      },
      "source": [
        "YOUTUBE_ID = 'Y4ARBzok9aU'\n",
        "\n",
        "!pip install -q youtube-dl\n",
        "!youtube-dl -f 'bestvideo[ext=mp4]' --output \"youtube.%(ext)s\" https://www.youtube.com/watch?v=$YOUTUBE_ID\n",
        "!ffmpeg -y -loglevel info -i youtube.mp4 -ss 00:05:28 -t 2 video.mp4"
      ],
      "execution_count": null,
      "outputs": []
    },
    {
      "cell_type": "code",
      "metadata": {
        "id": "7MAFz5jKKh6k"
      },
      "source": [
        "!mkdir /content/BIN/demo_videos/demo_blur/diving\n",
        "\n",
        "video_size=(320, 240)"
      ],
      "execution_count": null,
      "outputs": []
    },
    {
      "cell_type": "code",
      "metadata": {
        "id": "QGQ1_TdlRmn9"
      },
      "source": [
        "!rm -rf /content/BIN/demo_videos/demo_blur/diving"
      ],
      "execution_count": null,
      "outputs": []
    },
    {
      "cell_type": "code",
      "metadata": {
        "id": "7HiTuxBGKjy5"
      },
      "source": [
        "\n",
        "import cv2\n",
        "import os\n",
        "import numpy as np\n",
        "from google.colab.patches import cv2_imshow\n",
        "  \n",
        "\n",
        "cam = cv2.VideoCapture(\"video.mp4\")\n",
        "currentframe = 0\n",
        "kernel = np.array([[-1,-1,-1], [-1,9,-1], [-1,-1,-1]])\n",
        "  \n",
        "while(True):\n",
        "    ret,frame = cam.read()\n",
        "  \n",
        "    if ret:\n",
        "        n = str(currentframe)\n",
        "        name = '/content/' + n.zfill(5) + '.png'\n",
        "        print ('Creating...' + name)\n",
        "  \n",
        "        frame = cv2.resize(frame, (1280,720))\n",
        "        frame = frame[0:720, 160:1120]\n",
        "        frame = cv2.resize(frame, video_size)\n",
        "        frame = cv2.filter2D(frame, -1, kernel)\n",
        "        \n",
        "        cv2.imwrite(name, frame)\n",
        "        cv2_imshow(frame)\n",
        "\n",
        "        currentframe += 1\n",
        "    else:\n",
        "        break\n",
        "  \n",
        "cam.release()\n",
        "cv2.destroyAllWindows()"
      ],
      "execution_count": null,
      "outputs": []
    }
  ]
}