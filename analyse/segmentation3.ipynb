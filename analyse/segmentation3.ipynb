{
  "nbformat": 4,
  "nbformat_minor": 0,
  "metadata": {
    "colab": {
      "name": "Mask R-CNN",
      "private_outputs": true,
      "provenance": [],
      "authorship_tag": "ABX9TyOe9UalmGi/5mwZQemF1JhN",
      "include_colab_link": true
    },
    "kernelspec": {
      "name": "python3",
      "display_name": "Python 3"
    },
    "language_info": {
      "name": "python"
    },
    "accelerator": "GPU"
  },
  "cells": [
    {
      "cell_type": "markdown",
      "metadata": {
        "id": "view-in-github",
        "colab_type": "text"
      },
      "source": [
        "<a href=\"https://colab.research.google.com/github/anindita/dances/blob/main/analyse/segmentation3.ipynb\" target=\"_parent\"><img src=\"https://colab.research.google.com/assets/colab-badge.svg\" alt=\"Open In Colab\"/></a>"
      ]
    },
    {
      "cell_type": "markdown",
      "metadata": {
        "id": "FJfcOxCDa9W8"
      },
      "source": [
        "# Segmentation 3\n",
        "\n",
        "This has been modified by code written by [tugstugi](https://github.com/tugstugi/dl-colab-notebooks)"
      ]
    },
    {
      "cell_type": "code",
      "metadata": {
        "id": "kO5E1_svoP0K"
      },
      "source": [
        "!pip install -U torch==1.5.1+cu101 torchvision==0.6.1+cu101 -f https://download.pytorch.org/whl/torch_stable.html\n",
        "# install mmcv-full thus we could use CUDA operators\n",
        "!pip install mmcv-full \n",
        "\n",
        "# Install mmdetection\n",
        "!rm -rf mmdetection\n",
        "!git clone https://github.com/open-mmlab/mmdetection.git\n",
        "%cd mmdetection\n",
        "!pip install -e .\n",
        "# install Pillow 7.0.0 back in order to avoid bug in colab\n",
        "!pip install Pillow==7.0.0 \n",
        "\n",
        "!mkdir checkpoints\n",
        "!wget -c http://download.openmmlab.com/mmdetection/v2.0/mask_rcnn/mask_rcnn_r50_caffe_fpn_mstrain-poly_3x_coco/mask_rcnn_r50_caffe_fpn_mstrain-poly_3x_coco_bbox_mAP-0.408__segm_mAP-0.37_20200504_163245-42aa3d00.pth \\\n",
        "       -O checkpoints/mask_rcnn_r50_caffe_fpn_mstrain-poly_3x_coco_bbox_mAP-0.408__segm_mAP-0.37_20200504_163245-42aa3d00.pth "
      ],
      "execution_count": null,
      "outputs": []
    },
    {
      "cell_type": "code",
      "metadata": {
        "id": "Hf4quJSAp9Hy"
      },
      "source": [
        " from mmdet.apis import inference_detector, init_detector, show_result_pyplot\n",
        " # choose to use a config and initialize the detector\n",
        " config = 'configs/mask_rcnn/mask_rcnn_r50_caffe_fpn_mstrain-poly_3x_coco.py'\n",
        " # setup a checkpoint file to load\n",
        " checkpoint = 'checkpoints/mask_rcnn_r50_caffe_fpn_mstrain-poly_3x_coco_bbox_mAP-0.408__segm_mAP-0.37_20200504_163245-42aa3d00.pth'\n",
        " # initialize the detector\n",
        " model = init_detector(config, checkpoint, device='cuda:0') "
      ],
      "execution_count": null,
      "outputs": []
    },
    {
      "cell_type": "code",
      "metadata": {
        "id": "xxjIK_1Rp_N7"
      },
      "source": [
        "img = '/content/d00049.jpeg'\n",
        "result = inference_detector(model, img) \n",
        "\n",
        "show_result_pyplot(model, img, result[0], score_thr=0.5)"
      ],
      "execution_count": null,
      "outputs": []
    }
  ]
}