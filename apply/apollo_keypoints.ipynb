{
  "nbformat": 4,
  "nbformat_minor": 0,
  "metadata": {
    "colab": {
      "name": "get_keypoints_zip.ipynb",
      "provenance": [],
      "collapsed_sections": [],
      "authorship_tag": "ABX9TyM/U8JshQlcvPvqX3BF/HRJ",
      "include_colab_link": true
    },
    "kernelspec": {
      "name": "python3",
      "display_name": "Python 3"
    },
    "accelerator": "GPU"
  },
  "cells": [
    {
      "cell_type": "markdown",
      "metadata": {
        "id": "view-in-github",
        "colab_type": "text"
      },
      "source": [
        "<a href=\"https://colab.research.google.com/github/anindita/dances/blob/main/apply/apollo_keypoints.ipynb\" target=\"_parent\"><img src=\"https://colab.research.google.com/assets/colab-badge.svg\" alt=\"Open In Colab\"/></a>"
      ]
    },
    {
      "cell_type": "markdown",
      "metadata": {
        "id": "jsVVY_X9-Bmz"
      },
      "source": [
        "Download the videos from drive link and upload here\n",
        "\n",
        "Run all cells and download the zip files\n",
        "\n"
      ]
    },
    {
      "cell_type": "code",
      "metadata": {
        "id": "YWrO6gol6bXL",
        "colab": {
          "base_uri": "https://localhost:8080/"
        },
        "outputId": "1983c02b-892b-485e-ddfc-160b1b6c1d45"
      },
      "source": [
        "import os\n",
        "from os.path import exists, join, basename, splitext\n",
        "\n",
        "git_repo_url = 'https://github.com/CMU-Perceptual-Computing-Lab/openpose.git'\n",
        "project_name = splitext(basename(git_repo_url))[0]\n",
        "if not exists(project_name):\n",
        "  # see: https://github.com/CMU-Perceptual-Computing-Lab/openpose/issues/949\n",
        "  # install new CMake becaue of CUDA10\n",
        "  !wget -q https://cmake.org/files/v3.13/cmake-3.13.0-Linux-x86_64.tar.gz\n",
        "  !tar xfz cmake-3.13.0-Linux-x86_64.tar.gz --strip-components=1 -C /usr/local\n",
        "  # clone openpose\n",
        "  !git clone -q --depth 1 $git_repo_url\n",
        "  !sed -i 's/execute_process(COMMAND git checkout master WORKING_DIRECTORY ${CMAKE_SOURCE_DIR}\\/3rdparty\\/caffe)/execute_process(COMMAND git checkout f019d0dfe86f49d1140961f8c7dec22130c83154 WORKING_DIRECTORY ${CMAKE_SOURCE_DIR}\\/3rdparty\\/caffe)/g' openpose/CMakeLists.txt\n",
        "  # install system dependencies\n",
        "  !apt-get -qq install -y libatlas-base-dev libprotobuf-dev libleveldb-dev libsnappy-dev libhdf5-serial-dev protobuf-compiler libgflags-dev libgoogle-glog-dev liblmdb-dev opencl-headers ocl-icd-opencl-dev libviennacl-dev\n",
        "  # install python dependencies\n",
        "  !pip install -q youtube-dl\n",
        "  # build openpose\n",
        "  !cd openpose && rm -rf build || true && mkdir build && cd build && cmake .. && make -j`nproc`\n",
        "  \n",
        "from IPython.display import YouTubeVideo"
      ],
      "execution_count": null,
      "outputs": [
        {
          "output_type": "stream",
          "text": [
            "debconf: apt-extracttemplates failed: No such file or directory\n",
            "E: Sub-process /usr/sbin/dpkg-preconfigure --apt || true received signal 2.\n",
            "E: Failure running script /usr/sbin/dpkg-preconfigure --apt || true\n",
            "\u001b[K     |████████████████████████████████| 1.9MB 18.6MB/s \n",
            "\u001b[31mERROR: Operation cancelled by user\u001b[0m\n",
            "\u001b[?25h-- The C compiler identification is GNU 7.5.0\n",
            "-- The CXX compiler identification is GNU 7.5.0\n",
            "-- Check for working C compiler: /usr/bin/cc\n",
            "-- Check for working C compiler: /usr/bin/cc -- works\n",
            "-- Detecting C compiler ABI info\n",
            "-- Detecting C compiler ABI info - done\n",
            "-- Detecting C compile features\n",
            "-- Detecting C compile features - done\n",
            "-- Check for working CXX compiler: /usr/bin/c++\n",
            "-- Check for working CXX compiler: /usr/bin/c++ -- works\n",
            "-- Detecting CXX compiler ABI info\n",
            "-- Detecting CXX compiler ABI info - done\n",
            "-- Detecting CXX compile features\n",
            "-- Detecting CXX compile features - done\n",
            "-- GCC detected, adding compile flags\n",
            "-- GCC detected, adding compile flags\n",
            "-- Looking for pthread.h\n",
            "^C\n"
          ],
          "name": "stdout"
        }
      ]
    },
    {
      "cell_type": "code",
      "metadata": {
        "id": "B_kaYjO26mtD",
        "colab": {
          "base_uri": "https://localhost:8080/"
        },
        "outputId": "4dc5c8e4-5113-494f-e66b-a60e32fce9f1"
      },
      "source": [
        "# This is where we generate the folder of pose keypoints, take note of the --video, --write_json and --write_video flags\n",
        "\n",
        "# !cd openpose && ./build/examples/openpose/openpose.bin --video ../ucl_v_1.mov --write_json ucl_v_1 --write_video ../ucl_v_1.avi --display 0 --number_people_max 1\n",
        "# !cd openpose && ./build/examples/openpose/openpose.bin --video ../shef_v_1.mov --write_json shef_v_1 --write_video ../shef_v_1.avi --display 0 --number_people_max 1\n",
        "# !cd openpose && ./build/examples/openpose/openpose.bin --video ../ic_v_2.mov --write_json ic_v_2 --write_video ../ic_v_2.avi --display 0 --number_people_max 1\n",
        "# !cd openpose && ./build/examples/openpose/openpose.bin --video ../ab_v.mov --write_json ab_v --write_video ../ab_v.avi --display 0 --number_people_max 1\n",
        "# !cd openpose && ./build/examples/openpose/openpose.bin --video ../ucl_v_2.mov --write_json ucl_v_2 --write_video ../ucl_v_2.avi --display 0 --number_people_max 1\n",
        "# !cd openpose && ./build/examples/openpose/openpose.bin --video ../shef_v_2.mov --write_json shef_v_2 --write_video ../shef_v_2.avi --display 0 --number_people_max 1\n",
        "# !cd openpose && ./build/examples/openpose/openpose.bin --video ../ic_v_1.mov --write_json ic_v_1 --write_video ../ic_v_1.avi --display 0 --number_people_max 1\n",
        "# !cd openpose && ./build/examples/openpose/openpose.bin --video ../cam_v_1.mov --write_json cam_v_1 --write_video ../cam_v_1.avi --display 0 --number_people_max 1\n",
        "# !cd openpose && ./build/examples/openpose/openpose.bin --video ../cam_v_2.mov --write_json cam_v_2 --write_video ../cam_v_2.avi --display 0 --number_people_max 1\n",
        "# !cd openpose && ./build/examples/openpose/openpose.bin --video ../kcl_v.mov --write_json kcl_v --write_video ../kcl_v.avi --display 0 --number_people_max 1\n",
        "# !cd openpose && ./build/examples/openpose/openpose.bin --video ../kl_v.mov --write_json kl_v --write_video ../kl_v.avi --display 0 --number_people_max 1\n",
        "# !cd openpose && ./build/examples/openpose/openpose.bin --video ../not_v.mov --write_json not_v --write_video ../not_v.avi --display 0 --number_people_max 1\n",
        "\n",
        "# !cd openpose && ./build/examples/openpose/openpose.bin --video ../kcl_icsm_1.mov --write_json kcl_icsm_1 --write_video ../kcl_icsm_1.avi --display 0 --number_people_max 1\n",
        "# !cd openpose && ./build/examples/openpose/openpose.bin --video ../kcl_icsm_3.mov --write_json kcl_icsm_3 --write_video ../kcl_icsm_3.avi --display 0 --number_people_max 1\n",
        "# !cd openpose && ./build/examples/openpose/openpose.bin --video ../kcl_icsm_2.mov --write_json kcl_icsm_2 --write_video ../kcl_icsm_2.avi --display 0 --number_people_max 1\n",
        "# !cd openpose && ./build/examples/openpose/openpose.bin --video ../ucl_icsm_2.mov --write_json ucl_icsm_2 --write_video ../ucl_icsm_2.avi --display 0 --number_people_max 1\n",
        "# !cd openpose && ./build/examples/openpose/openpose.bin --video ../ucl_icsm_1.mov --write_json ucl_icsm_1 --write_video ../ucl_icsm_1.avi --display 0 --number_people_max 1\n",
        "# !cd openpose && ./build/examples/openpose/openpose.bin --video ../mdx_icsm.mov --write_json mdx_icsm --write_video ../mdx_icsm.avi --display 0 --number_people_max 1\n",
        "# !cd openpose && ./build/examples/openpose/openpose.bin --video ../ob_icsm.mov --write_json ob_icsm --write_video ../ob_icsm.avi --display 0 --number_people_max 1\n",
        "# !cd openpose && ./build/examples/openpose/openpose.bin --video ../ic_icsm.mov --write_json ic_icsm --write_video ../ic_icsm.avi --display 0 --number_people_max 1\n",
        "# !cd openpose && ./build/examples/openpose/openpose.bin --video ../ab_icsm_2.mov --write_json ab_icsm_2 --write_video ../ab_icsm_2.avi --display 0 --number_people_max 1\n",
        "# !cd openpose && ./build/examples/openpose/openpose.bin --video ../ox_icsm.mov --write_json ox_icsm --write_video ../ox_icsm.avi --display 0 --number_people_max 1\n",
        "# !cd openpose && ./build/examples/openpose/openpose.bin --video ../ab_icsm_1.mov --write_json ab_icsm_1 --write_video ../ab_icsm_1.avi --display 0 --number_people_max 1\n",
        "# !cd openpose && ./build/examples/openpose/openpose.bin --video ../not_icsm.mov --write_json not_icsm --write_video ../not_icsm.avi --display 0 --number_people_max 1\n",
        "\n",
        "# !cd openpose && ./build/examples/openpose/openpose.bin --video ../not_bh.mov --write_json not_bh --write_video ../not_bh.avi --display 0 --number_people_max 1\n",
        "# !cd openpose && ./build/examples/openpose/openpose.bin --video ../cam_bh.mov --write_json cam_bh --write_video ../cam_bh.avi --display 0 --number_people_max 1\n",
        "# !cd openpose && ./build/examples/openpose/openpose.bin --video ../ob_bh.mov --write_json ob_bh --write_video ../ob_bh.avi --display 0 --number_people_max 1\n",
        "# !cd openpose && ./build/examples/openpose/openpose.bin --video ../ox_bh.mov --write_json ox_bh --write_video ../ox_bh.avi --display 0 --number_people_max 1\n",
        "# !cd openpose && ./build/examples/openpose/openpose.bin --video ../kl_bh.mov --write_json kl_bh --write_video ../kl_bh.avi --display 0 --number_people_max 1\n",
        "# !cd openpose && ./build/examples/openpose/openpose.bin --video ../ucl_bh_2.mov --write_json ucl_bh_2 --write_video ../ucl_bh_2.avi --display 0 --number_people_max 1\n",
        "# !cd openpose && ./build/examples/openpose/openpose.bin --video ../ucl_bh_3.mov --write_json ucl_bh_3 --write_video ../ucl_bh_3.avi --display 0 --number_people_max 1\n",
        "# !cd openpose && ./build/examples/openpose/openpose.bin --video ../ucl_bh_1.mov --write_json ucl_bh_1 --write_video ../ucl_bh_1.avi --display 0 --number_people_max 1\n",
        "# !cd openpose && ./build/examples/openpose/openpose.bin --video ../ab_bh.mov --write_json ab_bh --write_video ../ab_bh.avi --display 0 --number_people_max 1\n",
        "# !cd openpose && ./build/examples/openpose/openpose.bin --video ../mdx_bh.mov --write_json mdx_bh --write_video ../mdx_bh.avi --display 0 --number_people_max 1\n",
        "\n",
        "# !cd openpose && ./build/examples/openpose/openpose.bin --video ../ob_r.mov --write_json ob_r --write_video ../ob_r.avi --display 0 --number_people_max 1\n",
        "# !cd openpose && ./build/examples/openpose/openpose.bin --video ../shef_r_2.mov --write_json shef_r_2 --write_video ../shef_r_2.avi --display 0 --number_people_max 1\n",
        "# !cd openpose && ./build/examples/openpose/openpose.bin --video ../ab_r.mov --write_json ab_r --write_video ../ab_r.avi --display 0 --number_people_max 1\n",
        "# !cd openpose && ./build/examples/openpose/openpose.bin --video ../shef_r_1.mov --write_json shef_r_1 --write_video ../shef_r_1.avi --display 0 --number_people_max 1\n",
        "# !cd openpose && ./build/examples/openpose/openpose.bin --video ../kcl_r.mov --write_json kcl_r --write_video ../kcl_r.avi --display 0 --number_people_max 1\n",
        "# !cd openpose && ./build/examples/openpose/openpose.bin --video ../kl_r.mov --write_json kl_r --write_video ../kl_r.avi --display 0 --number_people_max 1\n",
        "# !cd openpose && ./build/examples/openpose/openpose.bin --video ../not_r.mov --write_json not_r --write_video ../not_r.avi --display 0 --number_people_max 1\n",
        "\n",
        "# !cd openpose && ./build/examples/openpose/openpose.bin --video ../r.mp4 --write_json r --write_video ../r.avi --display 0 --number_people_max 1\n",
        "# !cd openpose && ./build/examples/openpose/openpose.bin --video ../v.mp4 --write_json v --write_video ../v.avi --display 0 --number_people_max 1\n",
        "# !cd openpose && ./build/examples/openpose/openpose.bin --video ../icsm.mp4 --write_json icsm --write_video ../icsm.avi --display 0 --number_people_max 1\n",
        "# !cd openpose && ./build/examples/openpose/openpose.bin --video ../bh.mp4 --write_json bh --write_video ../bh.avi --display 0 --number_people_max 1\n",
        "\n",
        "!cd openpose && ./build/examples/openpose/openpose.bin --video ../ic_r_2.mov --write_json ic_r_2 --write_video ../ic_r_2.avi --display 0 --number_people_max 1\n"
      ],
      "execution_count": null,
      "outputs": [
        {
          "output_type": "stream",
          "text": [
            "Starting OpenPose demo...\n",
            "Configuring OpenPose...\n",
            "Starting thread(s)...\n",
            "Auto-detecting all available GPUs... Detected 1 GPU(s), using 1 of them starting at GPU 0.\n",
            "OpenPose demo successfully finished. Total time: 90.116895 seconds.\n"
          ],
          "name": "stdout"
        }
      ]
    },
    {
      "cell_type": "code",
      "metadata": {
        "id": "fKGima3p7CJZ",
        "colab": {
          "base_uri": "https://localhost:8080/",
          "height": 35
        },
        "outputId": "9b7b397f-be16-463f-db2e-2676561dc5e8"
      },
      "source": [
        "# This is where we zip the folder of results so we can download the zip file\n",
        "\n",
        "import shutil\n",
        "\n",
        "shutil.make_archive('openpose/ic_r_2', 'zip', 'openpose/ic_r_2')\n",
        "# shutil.make_archive('openpose/ic_v_2', 'zip', 'openpose/ic_v_2')\n",
        "# shutil.make_archive('openpose/ab_v', 'zip', 'openpose/ab_v')\n",
        "# shutil.make_archive('openpose/ucl_v_2', 'zip', 'openpose/ucl_v_2')\n",
        "# shutil.make_archive('openpose/shef_v_2', 'zip', 'openpose/shef_v_2')\n",
        "# shutil.make_archive('openpose/ic_v_1', 'zip', 'openpose/ic_v_1')\n",
        "# shutil.make_archive('openpose/cam_v_1', 'zip', 'openpose/cam_v_1')\n",
        "# shutil.make_archive('openpose/cam_v_2', 'zip', 'openpose/cam_v_2')\n",
        "# shutil.make_archive('openpose/kcl_v', 'zip', 'openpose/kcl_v')\n",
        "# shutil.make_archive('openpose/kl_v', 'zip', 'openpose/kl_v')\n",
        "# shutil.make_archive('openpose/not_v', 'zip', 'openpose/not_v')\n",
        "\n",
        "# shutil.make_archive('openpose/kcl_icsm_1', 'zip', 'openpose/kcl_icsm_1')\n",
        "# shutil.make_archive('openpose/kcl_icsm_3', 'zip', 'openpose/kcl_icsm_3')\n",
        "# shutil.make_archive('openpose/kcl_icsm_2', 'zip', 'openpose/kcl_icsm_2')\n",
        "# shutil.make_archive('openpose/ucl_icsm_2', 'zip', 'openpose/ucl_icsm_2')\n",
        "# shutil.make_archive('openpose/ucl_icsm_1', 'zip', 'openpose/ucl_icsm_1')\n",
        "# shutil.make_archive('openpose/mdx_icsm', 'zip', 'openpose/mdx_icsm')\n",
        "# shutil.make_archive('openpose/ob_icsm', 'zip', 'openpose/ob_icsm')\n",
        "# shutil.make_archive('openpose/ic_icsm', 'zip', 'openpose/ic_icsm')\n",
        "# shutil.make_archive('openpose/ab_icsm_2', 'zip', 'openpose/ab_icsm_2')\n",
        "# shutil.make_archive('openpose/ox_icsm', 'zip', 'openpose/ox_icsm')\n",
        "# shutil.make_archive('openpose/ab_icsm_1', 'zip', 'openpose/ab_icsm_1')\n",
        "# shutil.make_archive('openpose/not_icsm', 'zip', 'openpose/not_icsm')\n",
        "\n",
        "# shutil.make_archive('openpose/not_bh', 'zip', 'openpose/not_bh')\n",
        "# shutil.make_archive('openpose/cam_bh', 'zip', 'openpose/cam_bh')\n",
        "# shutil.make_archive('openpose/ob_bh', 'zip', 'openpose/ob_bh')\n",
        "# shutil.make_archive('openpose/ox_bh', 'zip', 'openpose/ox_bh')\n",
        "# shutil.make_archive('openpose/kl_bh', 'zip', 'openpose/kl_bh')\n",
        "# shutil.make_archive('openpose/ucl_bh_2', 'zip', 'openpose/ucl_bh_2')\n",
        "# shutil.make_archive('openpose/ucl_bh_3', 'zip', 'openpose/ucl_bh_3')\n",
        "# shutil.make_archive('openpose/ucl_bh_1', 'zip', 'openpose/ucl_bh_1')\n",
        "# shutil.make_archive('openpose/ab_bh', 'zip', 'openpose/ab_bh')\n",
        "# shutil.make_archive('openpose/mdx_bh', 'zip', 'openpose/mdx_bh')\n",
        "\n",
        "# shutil.make_archive('openpose/ob_r', 'zip', 'openpose/ob_r')\n",
        "# shutil.make_archive('openpose/shef_r_2', 'zip', 'openpose/shef_r_2')\n",
        "# shutil.make_archive('openpose/ab_r', 'zip', 'openpose/ab_r')\n",
        "# shutil.make_archive('openpose/shef_r_1', 'zip', 'openpose/shef_r_1')\n",
        "# shutil.make_archive('openpose/kcl_r', 'zip', 'openpose/kcl_r')\n",
        "# shutil.make_archive('openpose/kl_r', 'zip', 'openpose/kl_r')\n",
        "# shutil.make_archive('openpose/not_r', 'zip', 'openpose/not_r')\n",
        "\n",
        "# shutil.make_archive('openpose/r', 'zip', 'openpose/r')\n",
        "# shutil.make_archive('openpose/v', 'zip', 'openpose/v')\n",
        "# shutil.make_archive('openpose/icsm', 'zip', 'openpose/icsm')\n",
        "# shutil.make_archive('openpose/bh', 'zip', 'openpose/bh')\n"
      ],
      "execution_count": null,
      "outputs": [
        {
          "output_type": "execute_result",
          "data": {
            "application/vnd.google.colaboratory.intrinsic+json": {
              "type": "string"
            },
            "text/plain": [
              "'/content/openpose/ic_r.zip'"
            ]
          },
          "metadata": {
            "tags": []
          },
          "execution_count": 3
        }
      ]
    }
  ]
}